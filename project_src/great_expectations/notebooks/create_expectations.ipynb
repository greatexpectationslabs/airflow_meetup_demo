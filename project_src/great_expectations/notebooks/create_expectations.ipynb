{
 "cells": [
  {
   "cell_type": "code",
   "execution_count": 1,
   "metadata": {},
   "outputs": [
    {
     "name": "stdout",
     "output_type": "stream",
     "text": [
      "2019-10-08T18:44:06-0400 - INFO - Great Expectations logging enabled at INFO level by JupyterUX module.\n"
     ]
    }
   ],
   "source": [
    "import json\n",
    "import os\n",
    "import great_expectations as ge\n",
    "import great_expectations.jupyter_ux\n",
    "import pandas as pd"
   ]
  },
  {
   "cell_type": "markdown",
   "metadata": {},
   "source": [
    "# Author Expectations\n",
    "\n"
   ]
  },
  {
   "cell_type": "markdown",
   "metadata": {},
   "source": [
    "[**Watch a short tutorial video**](https://docs.greatexpectations.io/en/latest/getting_started/create_expectations.html?utm_source=notebook&utm_medium=create_expectations#video)\n",
    "\n",
    "[**Read more in the tutorial**](https://docs.greatexpectations.io/en/latest/getting_started/create_expectations.html?utm_source=notebook&utm_medium=create_expectations)\n",
    "\n",
    "**Reach out for help on** [**Great Expectations Slack**](https://greatexpectations.io/slack)\n"
   ]
  },
  {
   "cell_type": "markdown",
   "metadata": {},
   "source": [
    "### Get a DataContext object\n",
    "[Read more in the tutorial](https://great-expectations.readthedocs.io/en/latest/getting_started/create_expectations.html?utm_source=notebook&utm_medium=create_expectations#get-datacontext-object)\n",
    "\n",
    "\n"
   ]
  },
  {
   "cell_type": "code",
   "execution_count": 3,
   "metadata": {},
   "outputs": [],
   "source": [
    "context = ge.data_context.DataContext()"
   ]
  },
  {
   "cell_type": "markdown",
   "metadata": {},
   "source": [
    "### List data assets in your project\n",
    "\n",
    "[Read more in the tutorial](https://docs.greatexpectations.io/en/latest/getting_started/create_expectations.html?utm_source=notebook&utm_medium=create_expectations#data-assets)\n"
   ]
  },
  {
   "cell_type": "code",
   "execution_count": 4,
   "metadata": {},
   "outputs": [
    {
     "name": "stdout",
     "output_type": "stream",
     "text": [
      "data_source: demo__dir (PandasDatasource)\n",
      "  generator_name: default (SubdirReaderGenerator)\n",
      "    generator_asset: npidata_pfile\n",
      "      expectation suite: BasicDatasetProfiler\n"
     ]
    }
   ],
   "source": [
    "great_expectations.jupyter_ux.list_available_data_asset_names(context)"
   ]
  },
  {
   "cell_type": "markdown",
   "metadata": {},
   "source": [
    "### Set the name of the data asset you want to create expectations about and the name of the expectation suite to put these expectations in\n",
    "\n",
    "We recommend to name your first expectation suite for a data asset \"warning\". Later, as you identify some of the expectations that you add to this suite as critical, you can move these expectations into another suite and call it \"failure\". "
   ]
  },
  {
   "cell_type": "code",
   "execution_count": 21,
   "metadata": {},
   "outputs": [],
   "source": [
    "data_asset_name = \"demo__dir/default/npidata_pfile_transformed\" # TODO: replace with your value!\n",
    "expectation_suite_name = \"warning\" # TODO: replace with your value!"
   ]
  },
  {
   "cell_type": "markdown",
   "metadata": {},
   "source": [
    "### Create the expectation suite\n",
    "\n"
   ]
  },
  {
   "cell_type": "code",
   "execution_count": 22,
   "metadata": {},
   "outputs": [
    {
     "data": {
      "text/plain": [
       "{'data_asset_name': 'demo__dir/default/npidata_pfile_transformed',\n",
       " 'expectation_suite_name': 'warning',\n",
       " 'meta': {'great_expectations.__version__': '0.8.0a3+15.g8cd46e9c'},\n",
       " 'expectations': []}"
      ]
     },
     "execution_count": 22,
     "metadata": {},
     "output_type": "execute_result"
    }
   ],
   "source": [
    "context.create_expectation_suite(data_asset_name=data_asset_name, expectation_suite_name=expectation_suite_name)"
   ]
  },
  {
   "cell_type": "markdown",
   "metadata": {},
   "source": [
    "### Load a batch of data from the data asset you want to validate\n",
    "\n",
    "Learn about `get_batch` in [this tutorial](https://docs.greatexpectations.io/en/latest/getting_started/create_expectations.html?utm_source=notebook&utm_medium=create_expectations#get-batch)\n",
    "\n",
    "__Quick Guide:__\n",
    "\n",
    "##### If you want to validate data in Pandas Dataframes or in Spark Dataframes:\n",
    "\n",
    "* A. If GE listed and profiled your files correctly:\n",
    "\n",
    "```\n",
    "data_asset_name = CHOOSE FROM THE LIST ABOVE\n",
    "batch = context.get_batch(data_asset_name, \n",
    "                          expectation_suite_name,\n",
    "                          context.yield_batch_kwargs(data_asset_name))\n",
    "```\n",
    "* B. Otherwise (you want to control the logic of reading the data):\n",
    "\n",
    "```\n",
    "df = load the data into a dataframe, e.g., df = SparkDFDataset(spark.read.csv... or pd.read_csv(...\n",
    "data_asset_name = COME UP WITH A NAME - THIS WILL CREATE A NEW DATA ASSET.\n",
    "batch = context.get_batch(data_asset_name, \n",
    "                          expectation_suite_name, \n",
    "                          df)\n",
    "```\n",
    "\n",
    "\n",
    "##### If you want to validate data in a database:\n",
    "\n",
    "* A. To validate an existing table:\n",
    "\n",
    "```\n",
    "data_asset_name = 'CHOOSE THE NAME OF YOUR TABLE FROM THE LIST OF DATA ASSETS ABOVE'\n",
    "batch = context.get_batch(data_asset_name, \n",
    "                        expectation_suite_name='my_suite'\n",
    "                        BatchKwargs(table=data_asset_name)) \n",
    "```\n",
    "\n",
    "* B. To validate a query result set:\n",
    "\n",
    "```\n",
    "data_asset_name = 'NAME YOUR QUERY (E.G., daily_users_query) - THIS WILL CREATE A NEW DATA ASSET'\n",
    "batch = context.get_batch(data_asset_name, \n",
    "                        expectation_suite_name='my_suite',\n",
    "                        BatchKwargs(query='SQL FOR YOUR QUERY'))\n",
    "```\n",
    "\n",
    "\n",
    "\n"
   ]
  },
  {
   "cell_type": "code",
   "execution_count": 26,
   "metadata": {},
   "outputs": [
    {
     "name": "stdout",
     "output_type": "stream",
     "text": [
      "2019-10-08T19:05:46-0400 - INFO - \t0 expectation(s) included in expectation_suite.\n",
      "2019-10-08T19:05:46-0400 - INFO - \t0 expectation(s) included in expectation_suite.\n",
      "2019-10-08T19:05:46-0400 - INFO - \t0 expectation(s) included in expectation_suite.\n",
      "2019-10-08T19:05:46-0400 - INFO - \t0 expectation(s) included in expectation_suite.\n",
      "2019-10-08T19:05:46-0400 - INFO - \t0 expectation(s) included in expectation_suite.\n"
     ]
    },
    {
     "data": {
      "text/html": [
       "<div>\n",
       "<style scoped>\n",
       "    .dataframe tbody tr th:only-of-type {\n",
       "        vertical-align: middle;\n",
       "    }\n",
       "\n",
       "    .dataframe tbody tr th {\n",
       "        vertical-align: top;\n",
       "    }\n",
       "\n",
       "    .dataframe thead th {\n",
       "        text-align: right;\n",
       "    }\n",
       "</style>\n",
       "<table border=\"1\" class=\"dataframe\">\n",
       "  <thead>\n",
       "    <tr style=\"text-align: right;\">\n",
       "      <th></th>\n",
       "      <th>NPI</th>\n",
       "      <th>Entity Type Code</th>\n",
       "      <th>Replacement NPI</th>\n",
       "      <th>Employer Identification Number (EIN)</th>\n",
       "      <th>Provider Organization Name (Legal Business Name)</th>\n",
       "      <th>Provider Last Name (Legal Name)</th>\n",
       "      <th>Provider First Name</th>\n",
       "      <th>Provider Middle Name</th>\n",
       "      <th>Provider Name Prefix Text</th>\n",
       "      <th>Provider Name Suffix Text</th>\n",
       "      <th>...</th>\n",
       "      <th>Healthcare Provider Taxonomy Group_6</th>\n",
       "      <th>Healthcare Provider Taxonomy Group_7</th>\n",
       "      <th>Healthcare Provider Taxonomy Group_8</th>\n",
       "      <th>Healthcare Provider Taxonomy Group_9</th>\n",
       "      <th>Healthcare Provider Taxonomy Group_10</th>\n",
       "      <th>Healthcare Provider Taxonomy Group_11</th>\n",
       "      <th>Healthcare Provider Taxonomy Group_12</th>\n",
       "      <th>Healthcare Provider Taxonomy Group_13</th>\n",
       "      <th>Healthcare Provider Taxonomy Group_14</th>\n",
       "      <th>Healthcare Provider Taxonomy Group_15</th>\n",
       "    </tr>\n",
       "  </thead>\n",
       "  <tbody>\n",
       "    <tr>\n",
       "      <td>0</td>\n",
       "      <td>1679576722</td>\n",
       "      <td>1.0</td>\n",
       "      <td>NaN</td>\n",
       "      <td>NaN</td>\n",
       "      <td>NaN</td>\n",
       "      <td>WIEBE</td>\n",
       "      <td>DAVID</td>\n",
       "      <td>A</td>\n",
       "      <td>NaN</td>\n",
       "      <td>NaN</td>\n",
       "      <td>...</td>\n",
       "      <td>NaN</td>\n",
       "      <td>NaN</td>\n",
       "      <td>NaN</td>\n",
       "      <td>NaN</td>\n",
       "      <td>NaN</td>\n",
       "      <td>NaN</td>\n",
       "      <td>NaN</td>\n",
       "      <td>NaN</td>\n",
       "      <td>NaN</td>\n",
       "      <td>NaN</td>\n",
       "    </tr>\n",
       "    <tr>\n",
       "      <td>1</td>\n",
       "      <td>1588667638</td>\n",
       "      <td>1.0</td>\n",
       "      <td>NaN</td>\n",
       "      <td>NaN</td>\n",
       "      <td>NaN</td>\n",
       "      <td>PILCHER</td>\n",
       "      <td>WILLIAM</td>\n",
       "      <td>C</td>\n",
       "      <td>DR.</td>\n",
       "      <td>NaN</td>\n",
       "      <td>...</td>\n",
       "      <td>NaN</td>\n",
       "      <td>NaN</td>\n",
       "      <td>NaN</td>\n",
       "      <td>NaN</td>\n",
       "      <td>NaN</td>\n",
       "      <td>NaN</td>\n",
       "      <td>NaN</td>\n",
       "      <td>NaN</td>\n",
       "      <td>NaN</td>\n",
       "      <td>NaN</td>\n",
       "    </tr>\n",
       "    <tr>\n",
       "      <td>2</td>\n",
       "      <td>1497758544</td>\n",
       "      <td>2.0</td>\n",
       "      <td>NaN</td>\n",
       "      <td>&lt;UNAVAIL&gt;</td>\n",
       "      <td>CUMBERLAND COUNTY HOSPITAL SYSTEM, INC</td>\n",
       "      <td>NaN</td>\n",
       "      <td>NaN</td>\n",
       "      <td>NaN</td>\n",
       "      <td>NaN</td>\n",
       "      <td>NaN</td>\n",
       "      <td>...</td>\n",
       "      <td>NaN</td>\n",
       "      <td>NaN</td>\n",
       "      <td>NaN</td>\n",
       "      <td>NaN</td>\n",
       "      <td>NaN</td>\n",
       "      <td>NaN</td>\n",
       "      <td>NaN</td>\n",
       "      <td>NaN</td>\n",
       "      <td>NaN</td>\n",
       "      <td>NaN</td>\n",
       "    </tr>\n",
       "    <tr>\n",
       "      <td>3</td>\n",
       "      <td>1306849450</td>\n",
       "      <td>1.0</td>\n",
       "      <td>NaN</td>\n",
       "      <td>NaN</td>\n",
       "      <td>NaN</td>\n",
       "      <td>SMITSON</td>\n",
       "      <td>HAROLD</td>\n",
       "      <td>LEROY</td>\n",
       "      <td>DR.</td>\n",
       "      <td>II</td>\n",
       "      <td>...</td>\n",
       "      <td>NaN</td>\n",
       "      <td>NaN</td>\n",
       "      <td>NaN</td>\n",
       "      <td>NaN</td>\n",
       "      <td>NaN</td>\n",
       "      <td>NaN</td>\n",
       "      <td>NaN</td>\n",
       "      <td>NaN</td>\n",
       "      <td>NaN</td>\n",
       "      <td>NaN</td>\n",
       "    </tr>\n",
       "    <tr>\n",
       "      <td>4</td>\n",
       "      <td>1215930367</td>\n",
       "      <td>1.0</td>\n",
       "      <td>NaN</td>\n",
       "      <td>NaN</td>\n",
       "      <td>NaN</td>\n",
       "      <td>GRESSOT</td>\n",
       "      <td>LAURENT</td>\n",
       "      <td>NaN</td>\n",
       "      <td>DR.</td>\n",
       "      <td>NaN</td>\n",
       "      <td>...</td>\n",
       "      <td>NaN</td>\n",
       "      <td>NaN</td>\n",
       "      <td>NaN</td>\n",
       "      <td>NaN</td>\n",
       "      <td>NaN</td>\n",
       "      <td>NaN</td>\n",
       "      <td>NaN</td>\n",
       "      <td>NaN</td>\n",
       "      <td>NaN</td>\n",
       "      <td>NaN</td>\n",
       "    </tr>\n",
       "  </tbody>\n",
       "</table>\n",
       "<p>5 rows × 329 columns</p>\n",
       "</div>"
      ],
      "text/plain": [
       "          NPI  Entity Type Code  Replacement NPI  \\\n",
       "0  1679576722               1.0              NaN   \n",
       "1  1588667638               1.0              NaN   \n",
       "2  1497758544               2.0              NaN   \n",
       "3  1306849450               1.0              NaN   \n",
       "4  1215930367               1.0              NaN   \n",
       "\n",
       "  Employer Identification Number (EIN)  \\\n",
       "0                                  NaN   \n",
       "1                                  NaN   \n",
       "2                            <UNAVAIL>   \n",
       "3                                  NaN   \n",
       "4                                  NaN   \n",
       "\n",
       "  Provider Organization Name (Legal Business Name)  \\\n",
       "0                                              NaN   \n",
       "1                                              NaN   \n",
       "2           CUMBERLAND COUNTY HOSPITAL SYSTEM, INC   \n",
       "3                                              NaN   \n",
       "4                                              NaN   \n",
       "\n",
       "  Provider Last Name (Legal Name) Provider First Name Provider Middle Name  \\\n",
       "0                           WIEBE               DAVID                    A   \n",
       "1                         PILCHER             WILLIAM                    C   \n",
       "2                             NaN                 NaN                  NaN   \n",
       "3                         SMITSON              HAROLD                LEROY   \n",
       "4                         GRESSOT             LAURENT                  NaN   \n",
       "\n",
       "  Provider Name Prefix Text Provider Name Suffix Text  ...  \\\n",
       "0                       NaN                       NaN  ...   \n",
       "1                       DR.                       NaN  ...   \n",
       "2                       NaN                       NaN  ...   \n",
       "3                       DR.                        II  ...   \n",
       "4                       DR.                       NaN  ...   \n",
       "\n",
       "  Healthcare Provider Taxonomy Group_6 Healthcare Provider Taxonomy Group_7  \\\n",
       "0                                  NaN                                  NaN   \n",
       "1                                  NaN                                  NaN   \n",
       "2                                  NaN                                  NaN   \n",
       "3                                  NaN                                  NaN   \n",
       "4                                  NaN                                  NaN   \n",
       "\n",
       "   Healthcare Provider Taxonomy Group_8 Healthcare Provider Taxonomy Group_9  \\\n",
       "0                                   NaN                                  NaN   \n",
       "1                                   NaN                                  NaN   \n",
       "2                                   NaN                                  NaN   \n",
       "3                                   NaN                                  NaN   \n",
       "4                                   NaN                                  NaN   \n",
       "\n",
       "  Healthcare Provider Taxonomy Group_10 Healthcare Provider Taxonomy Group_11  \\\n",
       "0                                   NaN                                   NaN   \n",
       "1                                   NaN                                   NaN   \n",
       "2                                   NaN                                   NaN   \n",
       "3                                   NaN                                   NaN   \n",
       "4                                   NaN                                   NaN   \n",
       "\n",
       "  Healthcare Provider Taxonomy Group_12 Healthcare Provider Taxonomy Group_13  \\\n",
       "0                                   NaN                                   NaN   \n",
       "1                                   NaN                                   NaN   \n",
       "2                                   NaN                                   NaN   \n",
       "3                                   NaN                                   NaN   \n",
       "4                                   NaN                                   NaN   \n",
       "\n",
       "  Healthcare Provider Taxonomy Group_14  Healthcare Provider Taxonomy Group_15  \n",
       "0                                   NaN                                    NaN  \n",
       "1                                   NaN                                    NaN  \n",
       "2                                   NaN                                    NaN  \n",
       "3                                   NaN                                    NaN  \n",
       "4                                   NaN                                    NaN  \n",
       "\n",
       "[5 rows x 329 columns]"
      ]
     },
     "execution_count": 26,
     "metadata": {},
     "output_type": "execute_result"
    }
   ],
   "source": [
    "# COPY THE APPROPRIATE CODE SNIPPET FROM THE CELL ABOVE\n",
    "batch = context.get_batch(data_asset_name, \n",
    "                          expectation_suite_name,\n",
    "                        batch_kwargs={\"path\":'/data/demo/npidata_pfile/npidata_pfile_20050523-20190908_0.csv'})\n",
    "batch.head()"
   ]
  },
  {
   "cell_type": "markdown",
   "metadata": {},
   "source": [
    "#### Optionally, customize options used to read your data (e.g., separators, header, etc) by setting reader options in `get_batch`\n",
    "\n",
    "[Read more in the tutorial](https://docs.greatexpectations.io/en/latest/getting_started/create_expectations.html?utm_source=notebook&utm_medium=create_expectations#reader-options)\n",
    "\n"
   ]
  },
  {
   "cell_type": "code",
   "execution_count": 20,
   "metadata": {},
   "outputs": [
    {
     "data": {
      "text/plain": [
       "{'path': '/data/demo/npidata_pfile/npidata_pfile_20050523-20191001_1.csv',\n",
       " 'partition_id': 'npidata_pfile_20050523-20191001_1',\n",
       " 'sep': None,\n",
       " 'engine': 'python'}"
      ]
     },
     "execution_count": 20,
     "metadata": {},
     "output_type": "execute_result"
    }
   ],
   "source": [
    "# this is how you can see which data batch was loaded\n",
    "batch._batch_kwargs"
   ]
  },
  {
   "cell_type": "markdown",
   "metadata": {},
   "source": [
    "## Author Expectations\n",
    "\n",
    "[Read more in the tutorial](https://docs.greatexpectations.io/en/latest/getting_started/create_expectations.html?utm_source=notebook&utm_medium=create_expectations#create-expectations)\n",
    "\n",
    "See available expectations in the [expectation glossary](https://docs.greatexpectations.io/en/latest/glossary.html?utm_source=notebook&utm_medium=create_expectations)\n"
   ]
  },
  {
   "cell_type": "code",
   "execution_count": null,
   "metadata": {},
   "outputs": [],
   "source": [
    "#example:\n",
    "\n",
    "column_name = batch.get_table_columns()[0]\n",
    "batch.expect_column_values_to_not_be_null(column_name)\n"
   ]
  },
  {
   "cell_type": "code",
   "execution_count": 12,
   "metadata": {},
   "outputs": [
    {
     "data": {
      "text/plain": [
       "{'success': True}"
      ]
     },
     "execution_count": 12,
     "metadata": {},
     "output_type": "execute_result"
    }
   ],
   "source": [
    "# add more expectations here\n",
    "batch.expect_column_to_exist('Provider Other Organization Name Type Code')"
   ]
  },
  {
   "cell_type": "code",
   "execution_count": 14,
   "metadata": {},
   "outputs": [
    {
     "data": {
      "text/plain": [
       "{'success': True,\n",
       " 'result': {'observed_value': [3.0, 4.0, 5.0],\n",
       "  'element_count': 10000,\n",
       "  'missing_count': 96,\n",
       "  'missing_percent': 0.0096}}"
      ]
     },
     "execution_count": 14,
     "metadata": {},
     "output_type": "execute_result"
    }
   ],
   "source": [
    "# add more expectations here\n",
    "batch.expect_column_distinct_values_to_be_in_set('Provider Other Organization Name Type Code', value_set=[3.0, 4.0, 5.0])"
   ]
  },
  {
   "cell_type": "code",
   "execution_count": 16,
   "metadata": {},
   "outputs": [],
   "source": [
    "# add more expectations herep\n",
    "partition_object = ge.dataset.util.build_categorical_partition_object(batch, column='Provider Other Organization Name Type Code')"
   ]
  },
  {
   "cell_type": "code",
   "execution_count": 17,
   "metadata": {},
   "outputs": [
    {
     "data": {
      "text/plain": [
       "{'success': True,\n",
       " 'result': {'observed_value': 0.0,\n",
       "  'element_count': 10000,\n",
       "  'missing_count': 96,\n",
       "  'missing_percent': 0.0096}}"
      ]
     },
     "execution_count": 17,
     "metadata": {},
     "output_type": "execute_result"
    }
   ],
   "source": [
    "batch.expect_column_kl_divergence_to_be_less_than(\n",
    "    'Provider Other Organization Name Type Code', \n",
    "    partition_object=partition_object, \n",
    "    threshold=0.2\n",
    ")"
   ]
  },
  {
   "cell_type": "markdown",
   "metadata": {},
   "source": [
    "### Review the expectations\n",
    "\n",
    "Expectations that were true on this data batch were added. To view all the expectations you added so far about this data asset, do:"
   ]
  },
  {
   "cell_type": "code",
   "execution_count": 18,
   "metadata": {},
   "outputs": [
    {
     "name": "stdout",
     "output_type": "stream",
     "text": [
      "2019-10-08T18:50:27-0400 - INFO - \t3 expectation(s) included in expectation_suite. result_format settings filtered.\n"
     ]
    },
    {
     "data": {
      "text/plain": [
       "{'data_asset_name': 'demo__dir/default/npidata_pfile',\n",
       " 'expectation_suite_name': 'warning',\n",
       " 'meta': {'great_expectations.__version__': '0.8.0a3+15.g8cd46e9c'},\n",
       " 'expectations': [{'expectation_type': 'expect_column_to_exist',\n",
       "   'kwargs': {'column': 'Provider Other Organization Name Type Code'}},\n",
       "  {'expectation_type': 'expect_column_distinct_values_to_be_in_set',\n",
       "   'kwargs': {'column': 'Provider Other Organization Name Type Code',\n",
       "    'value_set': [3.0, 4.0, 5.0]}},\n",
       "  {'expectation_type': 'expect_column_kl_divergence_to_be_less_than',\n",
       "   'kwargs': {'column': 'Provider Other Organization Name Type Code',\n",
       "    'partition_object': {'values': [3.0, 4.0, 5.0],\n",
       "     'weights': [0.00020193861066235866,\n",
       "      0.00010096930533117933,\n",
       "      0.9996970920840065]},\n",
       "    'threshold': 0.2}}],\n",
       " 'data_asset_type': 'Dataset'}"
      ]
     },
     "execution_count": 18,
     "metadata": {},
     "output_type": "execute_result"
    }
   ],
   "source": [
    "batch.get_expectation_suite()"
   ]
  },
  {
   "cell_type": "markdown",
   "metadata": {},
   "source": [
    "    \n",
    "    \n",
    "If you decide not to save some expectations that you created, use [remove_expectaton method](https://docs.greatexpectations.io/en/latest/module_docs/data_asset_module.html?highlight=remove_expectation&utm_source=notebook&utm_medium=create_expectations#great_expectations.data_asset.data_asset.DataAsset.remove_expectation)\n",
    "\n",
    "\n",
    "The following call will save the expectation suite as a JSON file in great_expectations/expectations directory of your project:\n",
    "    "
   ]
  },
  {
   "cell_type": "code",
   "execution_count": 27,
   "metadata": {},
   "outputs": [
    {
     "name": "stdout",
     "output_type": "stream",
     "text": [
      "2019-10-08T19:05:51-0400 - INFO - \t0 expectation(s) included in expectation_suite.\n"
     ]
    }
   ],
   "source": [
    "batch.save_expectation_suite()"
   ]
  },
  {
   "cell_type": "markdown",
   "metadata": {},
   "source": [
    "### You created and saved expectations for at least one of the data assets.\n",
    "\n",
    "### We will show you how to set up validation - the process of checking if new files of this type conform to your expectations before they are processed by your pipeline's code. \n",
    "\n",
    "### Go to [integrate_validation_into_pipeline.ipynb](integrate_validation_into_pipeline.ipynb) to proceed.\n",
    "\n",
    "\n"
   ]
  },
  {
   "cell_type": "code",
   "execution_count": null,
   "metadata": {},
   "outputs": [],
   "source": []
  },
  {
   "cell_type": "code",
   "execution_count": null,
   "metadata": {},
   "outputs": [],
   "source": []
  }
 ],
 "metadata": {
  "kernelspec": {
   "display_name": "Python 3",
   "language": "python",
   "name": "python3"
  },
  "language_info": {
   "codemirror_mode": {
    "name": "ipython",
    "version": 3
   },
   "file_extension": ".py",
   "mimetype": "text/x-python",
   "name": "python",
   "nbconvert_exporter": "python",
   "pygments_lexer": "ipython3",
   "version": "3.7.4"
  },
  "pycharm": {
   "stem_cell": {
    "cell_type": "raw",
    "metadata": {
     "collapsed": false
    },
    "source": []
   }
  }
 },
 "nbformat": 4,
 "nbformat_minor": 4
}
